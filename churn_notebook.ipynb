{
 "cells": [
  {
   "cell_type": "markdown",
   "id": "8880142b-a3a9-484a-bdbb-b0efe7b5ec32",
   "metadata": {},
   "source": [
    "# ClientCo use case : Churn Detection"
   ]
  },
  {
   "cell_type": "markdown",
   "id": "ef16b17b-3dd4-43a4-9718-4001e44f3e00",
   "metadata": {},
   "source": [
    "Plan du notebook :\n",
    "1. Imports\n",
    "2. Data loading\n",
    "3. Churn Detection<br />\n",
    "    3.1 Feature engineering<br />\n",
    "    3.2 Classification models<br />\n",
    "    3.3 Grid search<br />\n",
    "    3.4 Business case quantification<br />\n",
    "    3.5 Explainability<br />\n",
    "4. Basic example of client segmentation"
   ]
  },
  {
   "cell_type": "markdown",
   "id": "1ed405e3-6168-43b6-81b1-21906cdd08ca",
   "metadata": {},
   "source": [
    "## 1. Imports"
   ]
  },
  {
   "cell_type": "code",
   "execution_count": 2,
   "id": "192eaf08-d394-4e0b-a363-26771421b43c",
   "metadata": {},
   "outputs": [],
   "source": [
    "import pandas as pd\n",
    "from datetime import datetime\n",
    "from datetime import timedelta\n",
    "import numpy as np\n",
    "import seaborn as sns\n",
    "import matplotlib.pyplot as plt\n",
    "import statistics as stats\n",
    "from tqdm import tqdm\n",
    "from time import time\n",
    "from numpy.random import choice\n",
    "from random import random\n",
    "\n",
    "from sklearn.preprocessing import StandardScaler\n",
    "from sklearn.model_selection import train_test_split\n",
    "from sklearn.cluster import KMeans\n",
    "from sklearn.cluster import SpectralClustering\n",
    "from sklearn.cluster import AgglomerativeClustering\n",
    "from sklearn.ensemble import RandomForestClassifier\n",
    "from sklearn.svm import SVC\n",
    "from sklearn.neighbors import KNeighborsClassifier\n",
    "from sklearn.gaussian_process import GaussianProcessClassifier\n",
    "from sklearn.neural_network import MLPClassifier\n",
    "from sklearn.model_selection import cross_validate\n",
    "from sklearn.ensemble import VotingClassifier\n",
    "from sklearn.metrics import recall_score\n",
    "from sklearn.model_selection import GridSearchCV\n",
    "import xgboost as xgb\n",
    "import shap"
   ]
  },
  {
   "cell_type": "code",
   "execution_count": 84,
   "id": "38051039-4fff-4b3e-8070-1aa3dce65d81",
   "metadata": {},
   "outputs": [],
   "source": [
    "sns.set(rc={'figure.figsize':(15,8)})"
   ]
  },
  {
   "cell_type": "markdown",
   "id": "a6e31830-6a9b-487a-9199-da509b2f24a3",
   "metadata": {},
   "source": [
    "## 2. Data Loading"
   ]
  },
  {
   "cell_type": "code",
   "execution_count": 16,
   "id": "1e8cb3a7-eaa8-4b75-b233-b50adca015eb",
   "metadata": {},
   "outputs": [],
   "source": [
    "df1 = pd.read_csv('dataset_sales_2.csv', sep = ';')"
   ]
  },
  {
   "cell_type": "code",
   "execution_count": 4,
   "id": "994b6556-1aec-44df-9e1c-930e326f00b0",
   "metadata": {},
   "outputs": [
    {
     "data": {
      "text/html": [
       "<div>\n",
       "<style scoped>\n",
       "    .dataframe tbody tr th:only-of-type {\n",
       "        vertical-align: middle;\n",
       "    }\n",
       "\n",
       "    .dataframe tbody tr th {\n",
       "        vertical-align: top;\n",
       "    }\n",
       "\n",
       "    .dataframe thead th {\n",
       "        text-align: right;\n",
       "    }\n",
       "</style>\n",
       "<table border=\"1\" class=\"dataframe\">\n",
       "  <thead>\n",
       "    <tr style=\"text-align: right;\">\n",
       "      <th></th>\n",
       "      <th>date_order</th>\n",
       "      <th>date_invoice</th>\n",
       "      <th>product_id</th>\n",
       "      <th>client_id</th>\n",
       "      <th>sales_net</th>\n",
       "      <th>quantity</th>\n",
       "      <th>order_channel</th>\n",
       "      <th>branch_id</th>\n",
       "    </tr>\n",
       "  </thead>\n",
       "  <tbody>\n",
       "    <tr>\n",
       "      <th>0</th>\n",
       "      <td>2017-09-25</td>\n",
       "      <td>2017-09-25</td>\n",
       "      <td>2376333</td>\n",
       "      <td>188502</td>\n",
       "      <td>155.44320</td>\n",
       "      <td>3</td>\n",
       "      <td>online</td>\n",
       "      <td>2732</td>\n",
       "    </tr>\n",
       "    <tr>\n",
       "      <th>1</th>\n",
       "      <td>2017-09-25</td>\n",
       "      <td>2017-09-25</td>\n",
       "      <td>2520527</td>\n",
       "      <td>835089</td>\n",
       "      <td>16.39440</td>\n",
       "      <td>3</td>\n",
       "      <td>at the store</td>\n",
       "      <td>10279</td>\n",
       "    </tr>\n",
       "    <tr>\n",
       "      <th>2</th>\n",
       "      <td>2017-09-25</td>\n",
       "      <td>2017-09-25</td>\n",
       "      <td>2536756</td>\n",
       "      <td>1977896</td>\n",
       "      <td>365.76624</td>\n",
       "      <td>21</td>\n",
       "      <td>online</td>\n",
       "      <td>6184</td>\n",
       "    </tr>\n",
       "    <tr>\n",
       "      <th>3</th>\n",
       "      <td>2017-09-25</td>\n",
       "      <td>2017-09-25</td>\n",
       "      <td>3028673</td>\n",
       "      <td>598816</td>\n",
       "      <td>8.59878</td>\n",
       "      <td>201</td>\n",
       "      <td>at the store</td>\n",
       "      <td>4200</td>\n",
       "    </tr>\n",
       "    <tr>\n",
       "      <th>4</th>\n",
       "      <td>2017-09-25</td>\n",
       "      <td>2017-09-25</td>\n",
       "      <td>203377</td>\n",
       "      <td>2086861</td>\n",
       "      <td>1093.37400</td>\n",
       "      <td>3</td>\n",
       "      <td>by phone</td>\n",
       "      <td>7051</td>\n",
       "    </tr>\n",
       "  </tbody>\n",
       "</table>\n",
       "</div>"
      ],
      "text/plain": [
       "   date_order date_invoice  product_id  client_id   sales_net  quantity  \\\n",
       "0  2017-09-25   2017-09-25     2376333     188502   155.44320         3   \n",
       "1  2017-09-25   2017-09-25     2520527     835089    16.39440         3   \n",
       "2  2017-09-25   2017-09-25     2536756    1977896   365.76624        21   \n",
       "3  2017-09-25   2017-09-25     3028673     598816     8.59878       201   \n",
       "4  2017-09-25   2017-09-25      203377    2086861  1093.37400         3   \n",
       "\n",
       "  order_channel  branch_id  \n",
       "0        online       2732  \n",
       "1  at the store      10279  \n",
       "2        online       6184  \n",
       "3  at the store       4200  \n",
       "4      by phone       7051  "
      ]
     },
     "execution_count": 4,
     "metadata": {},
     "output_type": "execute_result"
    }
   ],
   "source": [
    "df1.head()"
   ]
  },
  {
   "cell_type": "code",
   "execution_count": 17,
   "id": "09b8a538-8a46-4664-bdc0-5eeff7796b67",
   "metadata": {},
   "outputs": [],
   "source": [
    "#Converting date from string to datetime (can take a few minutes)\n",
    "df1['date_order'] = df1['date_order'].apply(lambda x : datetime.strptime(x, '%Y-%m-%d'))"
   ]
  },
  {
   "cell_type": "code",
   "execution_count": 18,
   "id": "221af290-105d-4076-8008-a11ef9e9db63",
   "metadata": {},
   "outputs": [],
   "source": [
    "#Creating a copy where we filtered out negative orders\n",
    "df2 = df1[df1['sales_net'] > 0].copy()"
   ]
  },
  {
   "cell_type": "markdown",
   "id": "0129458d-568b-45f2-bf88-317e7d5c865f",
   "metadata": {},
   "source": [
    "## 3. Churn prediction"
   ]
  },
  {
   "cell_type": "markdown",
   "id": "cdabf2d9-67a6-4533-80f9-39f7867624f5",
   "metadata": {},
   "source": [
    "### 3.1 Preprocessing"
   ]
  },
  {
   "cell_type": "code",
   "execution_count": 21,
   "id": "af6a0931-48f3-4e9e-b3ad-2c02699d7521",
   "metadata": {},
   "outputs": [],
   "source": [
    "# rfm returns recency, frequency and monetary features \n",
    "def rfm(df_orders, date, client_id):\n",
    "    df_client = df_orders[df_orders.client_id == client_id]\n",
    "    df_client_1 = df_client[df_client.date_order > (date - timedelta(30))]\n",
    "    last_order = df_client.date_order.max()\n",
    "    first_order = df_client.date_order.min()\n",
    "    delta = (date - first_order).days\n",
    "    r = (date-last_order).days\n",
    "    f6 = df_client.date_order.nunique() / (delta + 1)\n",
    "    m6 = df_client.sales_net.sum()\n",
    "    delta_1 = max(delta, 29)\n",
    "    f1 = df_client_1.date_order.nunique() / (delta_1 + 1)\n",
    "    m1 = df_client_1.sales_net.sum()\n",
    "    f_ratio = 0\n",
    "    if f6 != 0:\n",
    "        f_ratio = f1/f6\n",
    "    m_ratio = 0\n",
    "    if m6 != 0:\n",
    "        m_ratio = 6*m1/m6\n",
    "    return (r,f6,f1, m6, m1, f_ratio, m_ratio)\n",
    "\n",
    "\n",
    "#channels returns whether the client used the different canals are not\n",
    "def channels(df_orders, client) :\n",
    "    df_client = df_orders[df_orders.client_id == client]\n",
    "    channels = df_client.order_channel.unique()\n",
    "    (online, store, phone, visit, other) = (0, 0, 0, 0, 0)\n",
    "    if 'online' in channels :\n",
    "        online = 1\n",
    "    if 'at the store' in channels :\n",
    "        store = 1\n",
    "    if 'by phone' in channels :\n",
    "        phone = 1\n",
    "    if 'during the visit of a sales rep' in channels :\n",
    "        visit = 1\n",
    "    if 'other' in channels :\n",
    "        other = 1\n",
    "    return (online, store, phone, visit, other)\n",
    "\n",
    "#is_churn returns the target. We consider a customer to be churn if his sales dropped 10 times or more after a certain date\n",
    "def is_churn(df_before, df_after, client_id, time_ratio):\n",
    "    client_before = df_before[df_before.client_id == client_id]\n",
    "    client_after = df_after[df_after.client_id == client_id]\n",
    "    if len(client_before) > 10*time_ratio*len(client_after) :\n",
    "        return 1\n",
    "    return 0"
   ]
  },
  {
   "cell_type": "code",
   "execution_count": 636,
   "id": "8385c7bc-867b-4671-aed4-063d61aa609e",
   "metadata": {},
   "outputs": [],
   "source": [
    "#Les dates sont choisies arbitrairement pour constituer le training set\n",
    "dates = [datetime(2018, 6,1), datetime(2018, 8,6), datetime(2018, 10,11), datetime(2018, 12,16), datetime(2019, 2,21), datetime(2019, 4,26)]\n",
    "\n",
    "#Nombre de clients choisis aléatoirement pour chaque date\n",
    "n_per_date = 20000 "
   ]
  },
  {
   "cell_type": "code",
   "execution_count": 637,
   "id": "a1fa7e44-245b-4297-b366-8370baca7410",
   "metadata": {},
   "outputs": [
    {
     "name": "stdout",
     "output_type": "stream",
     "text": [
      "Date : 2018-06-01 00:00:00\n",
      "Computing dataframes\n"
     ]
    },
    {
     "name": "stderr",
     "output_type": "stream",
     "text": [
      "  0%|          | 7/20000 [00:00<05:08, 64.76it/s]"
     ]
    },
    {
     "name": "stdout",
     "output_type": "stream",
     "text": [
      "Computing features\n"
     ]
    },
    {
     "name": "stderr",
     "output_type": "stream",
     "text": [
      "100%|██████████| 20000/20000 [04:56<00:00, 67.36it/s]\n",
      "100%|██████████| 20000/20000 [04:06<00:00, 81.00it/s]\n",
      "  0%|          | 7/20000 [00:00<05:08, 64.89it/s]"
     ]
    },
    {
     "name": "stdout",
     "output_type": "stream",
     "text": [
      "Computing Target\n"
     ]
    },
    {
     "name": "stderr",
     "output_type": "stream",
     "text": [
      "100%|██████████| 20000/20000 [05:14<00:00, 63.55it/s]\n"
     ]
    },
    {
     "name": "stdout",
     "output_type": "stream",
     "text": [
      "Running time : 868.97\n",
      "##############\n",
      "Date : 2018-08-06 00:00:00\n",
      "Computing dataframes\n"
     ]
    },
    {
     "name": "stderr",
     "output_type": "stream",
     "text": [
      "  0%|          | 7/20000 [00:00<04:53, 68.01it/s]"
     ]
    },
    {
     "name": "stdout",
     "output_type": "stream",
     "text": [
      "Computing features\n"
     ]
    },
    {
     "name": "stderr",
     "output_type": "stream",
     "text": [
      "100%|██████████| 20000/20000 [04:57<00:00, 67.26it/s]\n",
      "100%|██████████| 20000/20000 [04:14<00:00, 78.65it/s]\n",
      "  0%|          | 7/20000 [00:00<05:06, 65.29it/s]"
     ]
    },
    {
     "name": "stdout",
     "output_type": "stream",
     "text": [
      "Computing Target\n"
     ]
    },
    {
     "name": "stderr",
     "output_type": "stream",
     "text": [
      "100%|██████████| 20000/20000 [05:14<00:00, 63.54it/s]\n"
     ]
    },
    {
     "name": "stdout",
     "output_type": "stream",
     "text": [
      "Running time : 877.52\n",
      "##############\n",
      "Date : 2018-10-11 00:00:00\n",
      "Computing dataframes\n"
     ]
    },
    {
     "name": "stderr",
     "output_type": "stream",
     "text": [
      "  0%|          | 7/20000 [00:00<05:14, 63.49it/s]"
     ]
    },
    {
     "name": "stdout",
     "output_type": "stream",
     "text": [
      "Computing features\n"
     ]
    },
    {
     "name": "stderr",
     "output_type": "stream",
     "text": [
      "100%|██████████| 20000/20000 [04:58<00:00, 67.11it/s]\n",
      "100%|██████████| 20000/20000 [04:10<00:00, 79.80it/s]\n",
      "  0%|          | 7/20000 [00:00<05:01, 66.25it/s]"
     ]
    },
    {
     "name": "stdout",
     "output_type": "stream",
     "text": [
      "Computing Target\n"
     ]
    },
    {
     "name": "stderr",
     "output_type": "stream",
     "text": [
      "100%|██████████| 20000/20000 [05:05<00:00, 65.52it/s]\n"
     ]
    },
    {
     "name": "stdout",
     "output_type": "stream",
     "text": [
      "Running time : 865.48\n",
      "##############\n",
      "Date : 2018-12-16 00:00:00\n",
      "Computing dataframes\n"
     ]
    },
    {
     "name": "stderr",
     "output_type": "stream",
     "text": [
      "  0%|          | 7/20000 [00:00<05:06, 65.13it/s]"
     ]
    },
    {
     "name": "stdout",
     "output_type": "stream",
     "text": [
      "Computing features\n"
     ]
    },
    {
     "name": "stderr",
     "output_type": "stream",
     "text": [
      "100%|██████████| 20000/20000 [05:12<00:00, 64.01it/s]\n",
      "100%|██████████| 20000/20000 [04:25<00:00, 75.30it/s]\n",
      "  0%|          | 7/20000 [00:00<05:17, 63.00it/s]"
     ]
    },
    {
     "name": "stdout",
     "output_type": "stream",
     "text": [
      "Computing Target\n"
     ]
    },
    {
     "name": "stderr",
     "output_type": "stream",
     "text": [
      "100%|██████████| 20000/20000 [05:18<00:00, 62.72it/s]\n"
     ]
    },
    {
     "name": "stdout",
     "output_type": "stream",
     "text": [
      "Running time : 907.97\n",
      "##############\n",
      "Date : 2019-02-21 00:00:00\n",
      "Computing dataframes\n"
     ]
    },
    {
     "name": "stderr",
     "output_type": "stream",
     "text": [
      "  0%|          | 14/20000 [00:00<04:52, 68.35it/s]"
     ]
    },
    {
     "name": "stdout",
     "output_type": "stream",
     "text": [
      "Computing features\n"
     ]
    },
    {
     "name": "stderr",
     "output_type": "stream",
     "text": [
      "100%|██████████| 20000/20000 [04:57<00:00, 67.18it/s]\n",
      "100%|██████████| 20000/20000 [04:10<00:00, 79.97it/s]\n",
      "  0%|          | 7/20000 [00:00<04:59, 66.82it/s]"
     ]
    },
    {
     "name": "stdout",
     "output_type": "stream",
     "text": [
      "Computing Target\n"
     ]
    },
    {
     "name": "stderr",
     "output_type": "stream",
     "text": [
      "100%|██████████| 20000/20000 [05:00<00:00, 66.55it/s]\n"
     ]
    },
    {
     "name": "stdout",
     "output_type": "stream",
     "text": [
      "Running time : 859.85\n",
      "##############\n",
      "Date : 2019-04-26 00:00:00\n",
      "Computing dataframes\n"
     ]
    },
    {
     "name": "stderr",
     "output_type": "stream",
     "text": [
      "  0%|          | 7/20000 [00:00<05:04, 65.57it/s]"
     ]
    },
    {
     "name": "stdout",
     "output_type": "stream",
     "text": [
      "Computing features\n"
     ]
    },
    {
     "name": "stderr",
     "output_type": "stream",
     "text": [
      "100%|██████████| 20000/20000 [05:03<00:00, 65.83it/s]\n",
      "100%|██████████| 20000/20000 [04:21<00:00, 76.35it/s]\n",
      "  0%|          | 7/20000 [00:00<05:13, 63.78it/s]"
     ]
    },
    {
     "name": "stdout",
     "output_type": "stream",
     "text": [
      "Computing Target\n"
     ]
    },
    {
     "name": "stderr",
     "output_type": "stream",
     "text": [
      "100%|██████████| 20000/20000 [05:15<00:00, 63.47it/s]\n"
     ]
    },
    {
     "name": "stdout",
     "output_type": "stream",
     "text": [
      "Running time : 892.45\n",
      "##############\n"
     ]
    }
   ],
   "source": [
    "#Computing the training dataset (took ~40 minutes to compute 120k lines)\n",
    "df_train = pd.DataFrame()\n",
    "for date in dates :\n",
    "    t0 = time()\n",
    "    print(\"Date :\", date)\n",
    "    print(\"Computing dataframes\")\n",
    "    df_before_1 = df2[df2.date_order < date]\n",
    "    df_before_1 = df_before_1[df_before_1.date_order >= (date - timedelta(30))]\n",
    "\n",
    "    df_before_6 = df2[df2.date_order < date]\n",
    "    df_before_6 = df_before_6[df_before_6.date_order >= (date - timedelta(180))]\n",
    "\n",
    "    df_after = df2[df2.date_order >= date]\n",
    "    df_after = df_after[df_after.date_order < (date + timedelta(90))]\n",
    "    \n",
    "    df_train_date = df_before_6.copy()\n",
    "    clients_to_keep = choice(a = df_train_date.client_id.unique(), size = min(n_per_date, df_train_date.client_id.nunique()), replace=False)\n",
    "    df_train_date = df_train_date[df_train_date.client_id.isin(clients_to_keep)]\n",
    "    df_train_date = df_train_date.groupby(['client_id']).agg({'date_invoice' : 'count', 'product_id' : 'nunique', 'branch_id' : 'nunique'}).reset_index()\n",
    "    df_train_date.rename(columns = {'date_invoice' : 'nb_orders',\n",
    "                               'product_id' : 'nb_products',\n",
    "                               'branch_id' : 'nb_branches'}, inplace = True)\n",
    "    \n",
    "    print(\"Computing features\")\n",
    "\n",
    "    df_train_date['R'] = 0\n",
    "    df_train_date['F6'] = 0\n",
    "    df_train_date['F1'] = 0\n",
    "    df_train_date['M6'] = 0\n",
    "    df_train_date['M1'] = 0\n",
    "    df_train_date['F_ratio'] = 0\n",
    "    df_train_date['M_ratio'] = 0\n",
    "\n",
    "    for client in tqdm(df_train_date.client_id.unique()):\n",
    "        (r,f6,f1, m6, m1, f_r, m_r) = rfm(df_before_6, date, client)\n",
    "        df_train_date.loc[df_train_date.client_id == client, 'R'] = r\n",
    "        df_train_date.loc[df_train_date.client_id == client, 'F6'] = f6\n",
    "        df_train_date.loc[df_train_date.client_id == client, 'F1'] = f1\n",
    "        df_train_date.loc[df_train_date.client_id == client, 'M6'] = m6\n",
    "        df_train_date.loc[df_train_date.client_id == client, 'M1'] = m1\n",
    "        df_train_date.loc[df_train_date.client_id == client, 'F_ratio'] = f_r\n",
    "        df_train_date.loc[df_train_date.client_id == client, 'M_ratio'] = m_r\n",
    "        \n",
    "    df_train_date['mean_basket'] = df_train_date['M6']/df_train_date['nb_orders']\n",
    "\n",
    "    df_train_date['Online'] = 0\n",
    "    df_train_date['Store'] = 0\n",
    "    df_train_date['Phone'] = 0\n",
    "    df_train_date['Visit'] = 0\n",
    "    df_train_date['Other'] = 0\n",
    "\n",
    "\n",
    "    for client in tqdm(df_train_date.client_id.unique()):\n",
    "        (online, store, phone, visit, other) = channels(df_before_6, client)\n",
    "        df_train_date.loc[df_train_date.client_id == client, 'Online'] = online\n",
    "        df_train_date.loc[df_train_date.client_id == client, 'Store'] = store\n",
    "        df_train_date.loc[df_train_date.client_id == client, 'Phone'] = phone\n",
    "        df_train_date.loc[df_train_date.client_id == client, 'Visit'] = visit\n",
    "        df_train_date.loc[df_train_date.client_id == client, 'Other'] = other\n",
    "        \n",
    "    print(\"Computing Target\")\n",
    "        \n",
    "    df_train_date['churn'] = 0\n",
    "    for client in tqdm(df_train_date.client_id.unique()):\n",
    "        df_train_date.loc[df_train_date.client_id == client, 'churn'] = is_churn(df_before_6, df_after, client, 2)\n",
    "    \n",
    "    df_train = df_train.append(df_train_date)\n",
    "    print('Running time :', round(time()-t0, 2))\n",
    "    print(\"##############\")\n",
    "    \n"
   ]
  },
  {
   "cell_type": "code",
   "execution_count": 638,
   "id": "1c108322-5c53-468a-b1d2-82e7e8e423af",
   "metadata": {},
   "outputs": [
    {
     "data": {
      "text/plain": [
       "120000"
      ]
     },
     "execution_count": 638,
     "metadata": {},
     "output_type": "execute_result"
    }
   ],
   "source": [
    "len(df_train)"
   ]
  },
  {
   "cell_type": "code",
   "execution_count": 639,
   "id": "ae4bbe16-f962-46d2-9a35-9cc10d3b23f8",
   "metadata": {},
   "outputs": [
    {
     "data": {
      "text/html": [
       "<div>\n",
       "<style scoped>\n",
       "    .dataframe tbody tr th:only-of-type {\n",
       "        vertical-align: middle;\n",
       "    }\n",
       "\n",
       "    .dataframe tbody tr th {\n",
       "        vertical-align: top;\n",
       "    }\n",
       "\n",
       "    .dataframe thead th {\n",
       "        text-align: right;\n",
       "    }\n",
       "</style>\n",
       "<table border=\"1\" class=\"dataframe\">\n",
       "  <thead>\n",
       "    <tr style=\"text-align: right;\">\n",
       "      <th></th>\n",
       "      <th>client_id</th>\n",
       "      <th>nb_orders</th>\n",
       "      <th>nb_products</th>\n",
       "      <th>nb_branches</th>\n",
       "      <th>R</th>\n",
       "      <th>F6</th>\n",
       "      <th>F1</th>\n",
       "      <th>M6</th>\n",
       "      <th>M1</th>\n",
       "      <th>F_ratio</th>\n",
       "      <th>M_ratio</th>\n",
       "      <th>mean_basket</th>\n",
       "      <th>Online</th>\n",
       "      <th>Store</th>\n",
       "      <th>Phone</th>\n",
       "      <th>Visit</th>\n",
       "      <th>Other</th>\n",
       "      <th>churn</th>\n",
       "    </tr>\n",
       "  </thead>\n",
       "  <tbody>\n",
       "    <tr>\n",
       "      <th>0</th>\n",
       "      <td>18</td>\n",
       "      <td>550</td>\n",
       "      <td>313</td>\n",
       "      <td>1</td>\n",
       "      <td>1</td>\n",
       "      <td>0.393258</td>\n",
       "      <td>0.033708</td>\n",
       "      <td>55247.500375</td>\n",
       "      <td>3498.600495</td>\n",
       "      <td>0.085714</td>\n",
       "      <td>0.379956</td>\n",
       "      <td>100.450001</td>\n",
       "      <td>0</td>\n",
       "      <td>1</td>\n",
       "      <td>1</td>\n",
       "      <td>0</td>\n",
       "      <td>0</td>\n",
       "      <td>0</td>\n",
       "    </tr>\n",
       "    <tr>\n",
       "      <th>1</th>\n",
       "      <td>118</td>\n",
       "      <td>81</td>\n",
       "      <td>64</td>\n",
       "      <td>6</td>\n",
       "      <td>2</td>\n",
       "      <td>0.121951</td>\n",
       "      <td>0.030488</td>\n",
       "      <td>13729.912376</td>\n",
       "      <td>7321.364002</td>\n",
       "      <td>0.250000</td>\n",
       "      <td>3.199451</td>\n",
       "      <td>169.505091</td>\n",
       "      <td>0</td>\n",
       "      <td>1</td>\n",
       "      <td>1</td>\n",
       "      <td>0</td>\n",
       "      <td>0</td>\n",
       "      <td>0</td>\n",
       "    </tr>\n",
       "    <tr>\n",
       "      <th>2</th>\n",
       "      <td>227</td>\n",
       "      <td>30</td>\n",
       "      <td>19</td>\n",
       "      <td>2</td>\n",
       "      <td>1</td>\n",
       "      <td>0.086093</td>\n",
       "      <td>0.006623</td>\n",
       "      <td>9028.300783</td>\n",
       "      <td>650.283600</td>\n",
       "      <td>0.076923</td>\n",
       "      <td>0.432163</td>\n",
       "      <td>300.943359</td>\n",
       "      <td>0</td>\n",
       "      <td>1</td>\n",
       "      <td>1</td>\n",
       "      <td>0</td>\n",
       "      <td>0</td>\n",
       "      <td>0</td>\n",
       "    </tr>\n",
       "    <tr>\n",
       "      <th>3</th>\n",
       "      <td>280</td>\n",
       "      <td>19</td>\n",
       "      <td>16</td>\n",
       "      <td>2</td>\n",
       "      <td>64</td>\n",
       "      <td>0.055944</td>\n",
       "      <td>0.000000</td>\n",
       "      <td>3451.793149</td>\n",
       "      <td>0.000000</td>\n",
       "      <td>0.000000</td>\n",
       "      <td>0.000000</td>\n",
       "      <td>181.673324</td>\n",
       "      <td>0</td>\n",
       "      <td>0</td>\n",
       "      <td>1</td>\n",
       "      <td>0</td>\n",
       "      <td>0</td>\n",
       "      <td>0</td>\n",
       "    </tr>\n",
       "    <tr>\n",
       "      <th>4</th>\n",
       "      <td>334</td>\n",
       "      <td>16</td>\n",
       "      <td>12</td>\n",
       "      <td>2</td>\n",
       "      <td>71</td>\n",
       "      <td>0.033898</td>\n",
       "      <td>0.000000</td>\n",
       "      <td>4414.863305</td>\n",
       "      <td>0.000000</td>\n",
       "      <td>0.000000</td>\n",
       "      <td>0.000000</td>\n",
       "      <td>275.928957</td>\n",
       "      <td>0</td>\n",
       "      <td>1</td>\n",
       "      <td>1</td>\n",
       "      <td>0</td>\n",
       "      <td>0</td>\n",
       "      <td>0</td>\n",
       "    </tr>\n",
       "  </tbody>\n",
       "</table>\n",
       "</div>"
      ],
      "text/plain": [
       "   client_id  nb_orders  nb_products  nb_branches   R        F6        F1  \\\n",
       "0         18        550          313            1   1  0.393258  0.033708   \n",
       "1        118         81           64            6   2  0.121951  0.030488   \n",
       "2        227         30           19            2   1  0.086093  0.006623   \n",
       "3        280         19           16            2  64  0.055944  0.000000   \n",
       "4        334         16           12            2  71  0.033898  0.000000   \n",
       "\n",
       "             M6           M1   F_ratio   M_ratio  mean_basket  Online  Store  \\\n",
       "0  55247.500375  3498.600495  0.085714  0.379956   100.450001       0      1   \n",
       "1  13729.912376  7321.364002  0.250000  3.199451   169.505091       0      1   \n",
       "2   9028.300783   650.283600  0.076923  0.432163   300.943359       0      1   \n",
       "3   3451.793149     0.000000  0.000000  0.000000   181.673324       0      0   \n",
       "4   4414.863305     0.000000  0.000000  0.000000   275.928957       0      1   \n",
       "\n",
       "   Phone  Visit  Other  churn  \n",
       "0      1      0      0      0  \n",
       "1      1      0      0      0  \n",
       "2      1      0      0      0  \n",
       "3      1      0      0      0  \n",
       "4      1      0      0      0  "
      ]
     },
     "execution_count": 639,
     "metadata": {},
     "output_type": "execute_result"
    }
   ],
   "source": [
    "df_train.head()"
   ]
  },
  {
   "cell_type": "code",
   "execution_count": 640,
   "id": "2e72855c-9785-458e-b5fb-c7f18dac0911",
   "metadata": {},
   "outputs": [
    {
     "data": {
      "text/plain": [
       "0    85870\n",
       "1    34130\n",
       "Name: churn, dtype: int64"
      ]
     },
     "execution_count": 640,
     "metadata": {},
     "output_type": "execute_result"
    }
   ],
   "source": [
    "df_train.churn.value_counts()"
   ]
  },
  {
   "cell_type": "code",
   "execution_count": 641,
   "id": "e695efd4-27e8-4beb-b6a2-3cc65d6acfe1",
   "metadata": {},
   "outputs": [],
   "source": [
    "df_train.to_csv('dataset_train.csv')"
   ]
  },
  {
   "cell_type": "markdown",
   "id": "e7dfe764-99d1-46b4-9ee7-c13a5cb393a8",
   "metadata": {},
   "source": [
    "## 3.2 Classification models"
   ]
  },
  {
   "cell_type": "code",
   "execution_count": 3,
   "id": "6cfccd3f-925f-4cdc-9c3e-94021816500a",
   "metadata": {},
   "outputs": [],
   "source": [
    "df_train = pd.read_csv('dataset_train.csv').drop(columns = ['Unnamed: 0'], axis = 1)\n",
    "df_train = df_train.drop_duplicates(subset = 'client_id', keep = 'last').copy()"
   ]
  },
  {
   "cell_type": "code",
   "execution_count": 4,
   "id": "0212d142-ac2f-4077-af10-a49e1a4c2e18",
   "metadata": {},
   "outputs": [],
   "source": [
    "df_train_small = df_train.head(10000).copy()"
   ]
  },
  {
   "cell_type": "code",
   "execution_count": 113,
   "id": "f0b01bb5-f2be-4835-88bc-2b7dd9946e8e",
   "metadata": {},
   "outputs": [],
   "source": [
    "X = df_train.drop(columns = ['churn', 'client_id'], axis = 1)\n",
    "y = df_train['churn']\n",
    "\n",
    "scaler = StandardScaler()\n",
    "X = scaler.fit_transform(X)\n",
    "\n",
    "X_train, X_test, y_train, y_test = train_test_split(X, y, test_size = 0.2, stratify = y)"
   ]
  },
  {
   "cell_type": "markdown",
   "id": "f1487854-5112-4283-b028-6674895c5001",
   "metadata": {},
   "source": [
    "La mesure qui nous intéresse le plus est le rappel car classifier un client comme churn alors qu'il ne l'est pas vraiment est moins dommageable que de classifier un client comme non-churn alors qu'il l'est. </br>\n",
    "Toutefois on vérifie tout de même les autres mesures pour s'assurer que le modèle reste cohérent. "
   ]
  },
  {
   "cell_type": "code",
   "execution_count": 89,
   "id": "b8d5c3ad-a2f0-4274-9d29-5ae3293934ea",
   "metadata": {},
   "outputs": [
    {
     "name": "stdout",
     "output_type": "stream",
     "text": [
      "----- Random Forest -----\n",
      "Accuracy : 76.47 %\n",
      "Precision : 65.53 %\n",
      "Rappel : 58.74 %\n",
      "F1 Score : 61.95 %\n",
      "ROC AUC : 83.29 %\n"
     ]
    }
   ],
   "source": [
    "clf = RandomForestClassifier(n_jobs = -1, random_state = 1)\n",
    "\n",
    "cv_results = cross_validate(clf, X_train, y_train, cv=5, scoring=('accuracy', 'precision', 'recall', 'f1', 'roc_auc'), n_jobs = -1)\n",
    "\n",
    "print('----- Random Forest -----')\n",
    "print('Accuracy : {} %'.format(np.round(100*cv_results['test_accuracy'].mean(),2)))\n",
    "print('Precision : {} %'.format(np.round(100*cv_results['test_precision'].mean(),2)))\n",
    "print('Rappel : {} %'.format(np.round(100*cv_results['test_recall'].mean(),2)))\n",
    "print('F1 Score : {} %'.format(np.round(100*cv_results['test_f1'].mean(),2)))\n",
    "print('ROC AUC : {} %'.format(np.round(100*cv_results['test_roc_auc'].mean(),2)))"
   ]
  },
  {
   "cell_type": "code",
   "execution_count": 90,
   "id": "06897427-09f5-4b81-aa1d-832016349581",
   "metadata": {},
   "outputs": [
    {
     "name": "stdout",
     "output_type": "stream",
     "text": [
      "----- SVC -----\n",
      "Accuracy : 76.94 %\n",
      "Precision : 64.33 %\n",
      "Rappel : 65.68 %\n",
      "F1 Score : 64.99 %\n",
      "ROC AUC : 82.1 %\n"
     ]
    }
   ],
   "source": [
    "clf = SVC(random_state = 1)\n",
    "\n",
    "cv_results = cross_validate(clf, X_train, y_train, cv=5, scoring=('accuracy', 'precision', 'recall', 'f1', 'roc_auc'), n_jobs = -1)\n",
    "\n",
    "print('----- SVC -----')\n",
    "print('Accuracy : {} %'.format(np.round(100*cv_results['test_accuracy'].mean(),2)))\n",
    "print('Precision : {} %'.format(np.round(100*cv_results['test_precision'].mean(),2)))\n",
    "print('Rappel : {} %'.format(np.round(100*cv_results['test_recall'].mean(),2)))\n",
    "print('F1 Score : {} %'.format(np.round(100*cv_results['test_f1'].mean(),2)))\n",
    "print('ROC AUC : {} %'.format(np.round(100*cv_results['test_roc_auc'].mean(),2)))"
   ]
  },
  {
   "cell_type": "code",
   "execution_count": 91,
   "id": "9e1c8561-3119-4046-a8c2-05d8d21057ca",
   "metadata": {},
   "outputs": [
    {
     "name": "stdout",
     "output_type": "stream",
     "text": [
      "----- KNN -----\n",
      "Accuracy : 74.85 %\n",
      "Precision : 62.04 %\n",
      "Rappel : 58.89 %\n",
      "F1 Score : 60.42 %\n",
      "ROC AUC : 79.34 %\n"
     ]
    }
   ],
   "source": [
    "clf = KNeighborsClassifier(n_neighbors = 5)\n",
    "\n",
    "cv_results = cross_validate(clf, X_train, y_train, cv=5, scoring=('accuracy', 'precision', 'recall', 'f1', 'roc_auc'), n_jobs = -1)\n",
    "\n",
    "print('----- KNN -----')\n",
    "print('Accuracy : {} %'.format(np.round(100*cv_results['test_accuracy'].mean(),2)))\n",
    "print('Precision : {} %'.format(np.round(100*cv_results['test_precision'].mean(),2)))\n",
    "print('Rappel : {} %'.format(np.round(100*cv_results['test_recall'].mean(),2)))\n",
    "print('F1 Score : {} %'.format(np.round(100*cv_results['test_f1'].mean(),2)))\n",
    "print('ROC AUC : {} %'.format(np.round(100*cv_results['test_roc_auc'].mean(),2)))"
   ]
  },
  {
   "cell_type": "code",
   "execution_count": 92,
   "id": "5d95d6c1-43e6-47f9-a6b7-3ddacd041faf",
   "metadata": {},
   "outputs": [
    {
     "name": "stdout",
     "output_type": "stream",
     "text": [
      "----- MLP -----\n",
      "Accuracy : 77.94 %\n",
      "Precision : 66.29 %\n",
      "Rappel : 65.82 %\n",
      "F1 Score : 66.03 %\n",
      "ROC AUC : 84.67 %\n"
     ]
    }
   ],
   "source": [
    "clf = MLPClassifier(tol = 0.0001, max_iter = 500)\n",
    "\n",
    "cv_results = cross_validate(clf, X_train, y_train, cv=5, scoring=('accuracy', 'precision', 'recall', 'f1', 'roc_auc'), n_jobs = -1)\n",
    "\n",
    "print('----- MLP -----')\n",
    "print('Accuracy : {} %'.format(np.round(100*cv_results['test_accuracy'].mean(),2)))\n",
    "print('Precision : {} %'.format(np.round(100*cv_results['test_precision'].mean(),2)))\n",
    "print('Rappel : {} %'.format(np.round(100*cv_results['test_recall'].mean(),2)))\n",
    "print('F1 Score : {} %'.format(np.round(100*cv_results['test_f1'].mean(),2)))\n",
    "print('ROC AUC : {} %'.format(np.round(100*cv_results['test_roc_auc'].mean(),2)))"
   ]
  },
  {
   "cell_type": "code",
   "execution_count": 93,
   "id": "16858fe7-521c-4b98-9ef5-cf2bfbcc0ab6",
   "metadata": {},
   "outputs": [
    {
     "name": "stdout",
     "output_type": "stream",
     "text": [
      "----- XGBoost -----\n",
      "Accuracy : 77.74 %\n",
      "Precision : 66.1 %\n",
      "Rappel : 65.12 %\n",
      "F1 Score : 65.6 %\n",
      "ROC AUC : 84.36 %\n"
     ]
    }
   ],
   "source": [
    "clf = xgb.XGBClassifier(random_state = 1)\n",
    "\n",
    "cv_results = cross_validate(clf, X_train, y_train, cv=5, scoring=('accuracy', 'precision', 'recall', 'f1', 'roc_auc'), n_jobs = -1)\n",
    "\n",
    "print('----- XGBoost -----')\n",
    "print('Accuracy : {} %'.format(np.round(100*cv_results['test_accuracy'].mean(),2)))\n",
    "print('Precision : {} %'.format(np.round(100*cv_results['test_precision'].mean(),2)))\n",
    "print('Rappel : {} %'.format(np.round(100*cv_results['test_recall'].mean(),2)))\n",
    "print('F1 Score : {} %'.format(np.round(100*cv_results['test_f1'].mean(),2)))\n",
    "print('ROC AUC : {} %'.format(np.round(100*cv_results['test_roc_auc'].mean(),2)))"
   ]
  },
  {
   "cell_type": "markdown",
   "id": "b51c9a62-cdf2-421a-a41b-98cd344354d0",
   "metadata": {},
   "source": [
    "--> Les modèles XGBoost et MLP semblent les plus prometteurs"
   ]
  },
  {
   "cell_type": "markdown",
   "id": "c92e3cc7-5dd8-40fb-80f3-27bf8ba9aeb7",
   "metadata": {},
   "source": [
    "## 3.3 Grid Search "
   ]
  },
  {
   "cell_type": "code",
   "execution_count": 5,
   "id": "fd9c0765-c369-4fab-b4a8-9e3f693ae5b9",
   "metadata": {},
   "outputs": [],
   "source": [
    "X = df_train_small.drop(columns = ['churn', 'client_id'], axis = 1)\n",
    "y = df_train_small['churn']\n",
    "\n",
    "scaler = StandardScaler()\n",
    "X = scaler.fit_transform(X)\n",
    "\n",
    "X_train, X_test, y_train, y_test = train_test_split(X, y, test_size = 0.2, stratify = y)"
   ]
  },
  {
   "cell_type": "code",
   "execution_count": 11,
   "id": "9fdc7d75-3da0-44fa-bf42-a70eada2f6eb",
   "metadata": {},
   "outputs": [
    {
     "name": "stdout",
     "output_type": "stream",
     "text": [
      "Fitting 5 folds for each of 400 candidates, totalling 2000 fits\n"
     ]
    },
    {
     "data": {
      "text/html": [
       "<div>\n",
       "<style scoped>\n",
       "    .dataframe tbody tr th:only-of-type {\n",
       "        vertical-align: middle;\n",
       "    }\n",
       "\n",
       "    .dataframe tbody tr th {\n",
       "        vertical-align: top;\n",
       "    }\n",
       "\n",
       "    .dataframe thead th {\n",
       "        text-align: right;\n",
       "    }\n",
       "</style>\n",
       "<table border=\"1\" class=\"dataframe\">\n",
       "  <thead>\n",
       "    <tr style=\"text-align: right;\">\n",
       "      <th></th>\n",
       "      <th>mean_fit_time</th>\n",
       "      <th>std_fit_time</th>\n",
       "      <th>mean_score_time</th>\n",
       "      <th>std_score_time</th>\n",
       "      <th>param_gamma</th>\n",
       "      <th>param_learning_rate</th>\n",
       "      <th>param_max_depth</th>\n",
       "      <th>param_min_child_weight</th>\n",
       "      <th>params</th>\n",
       "      <th>split0_test_score</th>\n",
       "      <th>split1_test_score</th>\n",
       "      <th>split2_test_score</th>\n",
       "      <th>split3_test_score</th>\n",
       "      <th>split4_test_score</th>\n",
       "      <th>mean_test_score</th>\n",
       "      <th>std_test_score</th>\n",
       "      <th>rank_test_score</th>\n",
       "    </tr>\n",
       "  </thead>\n",
       "  <tbody>\n",
       "    <tr>\n",
       "      <th>242</th>\n",
       "      <td>0.717161</td>\n",
       "      <td>0.005515</td>\n",
       "      <td>0.006602</td>\n",
       "      <td>0.000490</td>\n",
       "      <td>2</td>\n",
       "      <td>0.3</td>\n",
       "      <td>2</td>\n",
       "      <td>10</td>\n",
       "      <td>{'gamma': 2, 'learning_rate': 0.3, 'max_depth'...</td>\n",
       "      <td>0.683274</td>\n",
       "      <td>0.676732</td>\n",
       "      <td>0.692718</td>\n",
       "      <td>0.694494</td>\n",
       "      <td>0.662522</td>\n",
       "      <td>0.681948</td>\n",
       "      <td>0.011659</td>\n",
       "      <td>1</td>\n",
       "    </tr>\n",
       "    <tr>\n",
       "      <th>243</th>\n",
       "      <td>0.706959</td>\n",
       "      <td>0.007522</td>\n",
       "      <td>0.007002</td>\n",
       "      <td>0.000632</td>\n",
       "      <td>2</td>\n",
       "      <td>0.3</td>\n",
       "      <td>2</td>\n",
       "      <td>15</td>\n",
       "      <td>{'gamma': 2, 'learning_rate': 0.3, 'max_depth'...</td>\n",
       "      <td>0.683274</td>\n",
       "      <td>0.683837</td>\n",
       "      <td>0.678508</td>\n",
       "      <td>0.682060</td>\n",
       "      <td>0.678508</td>\n",
       "      <td>0.681237</td>\n",
       "      <td>0.002301</td>\n",
       "      <td>2</td>\n",
       "    </tr>\n",
       "    <tr>\n",
       "      <th>246</th>\n",
       "      <td>0.963017</td>\n",
       "      <td>0.030604</td>\n",
       "      <td>0.007402</td>\n",
       "      <td>0.000490</td>\n",
       "      <td>2</td>\n",
       "      <td>0.3</td>\n",
       "      <td>3</td>\n",
       "      <td>10</td>\n",
       "      <td>{'gamma': 2, 'learning_rate': 0.3, 'max_depth'...</td>\n",
       "      <td>0.683274</td>\n",
       "      <td>0.678508</td>\n",
       "      <td>0.696270</td>\n",
       "      <td>0.674956</td>\n",
       "      <td>0.664298</td>\n",
       "      <td>0.679461</td>\n",
       "      <td>0.010471</td>\n",
       "      <td>3</td>\n",
       "    </tr>\n",
       "    <tr>\n",
       "      <th>385</th>\n",
       "      <td>1.010828</td>\n",
       "      <td>0.044012</td>\n",
       "      <td>0.006802</td>\n",
       "      <td>0.000400</td>\n",
       "      <td>5</td>\n",
       "      <td>0.5</td>\n",
       "      <td>3</td>\n",
       "      <td>5</td>\n",
       "      <td>{'gamma': 5, 'learning_rate': 0.5, 'max_depth'...</td>\n",
       "      <td>0.683274</td>\n",
       "      <td>0.680284</td>\n",
       "      <td>0.692718</td>\n",
       "      <td>0.658970</td>\n",
       "      <td>0.680284</td>\n",
       "      <td>0.679106</td>\n",
       "      <td>0.011053</td>\n",
       "      <td>4</td>\n",
       "    </tr>\n",
       "    <tr>\n",
       "      <th>240</th>\n",
       "      <td>0.661949</td>\n",
       "      <td>0.032672</td>\n",
       "      <td>0.006602</td>\n",
       "      <td>0.000490</td>\n",
       "      <td>2</td>\n",
       "      <td>0.3</td>\n",
       "      <td>2</td>\n",
       "      <td>1</td>\n",
       "      <td>{'gamma': 2, 'learning_rate': 0.3, 'max_depth'...</td>\n",
       "      <td>0.667260</td>\n",
       "      <td>0.689165</td>\n",
       "      <td>0.699822</td>\n",
       "      <td>0.680284</td>\n",
       "      <td>0.657194</td>\n",
       "      <td>0.678745</td>\n",
       "      <td>0.015176</td>\n",
       "      <td>5</td>\n",
       "    </tr>\n",
       "  </tbody>\n",
       "</table>\n",
       "</div>"
      ],
      "text/plain": [
       "     mean_fit_time  std_fit_time  mean_score_time  std_score_time param_gamma  \\\n",
       "242       0.717161      0.005515         0.006602        0.000490           2   \n",
       "243       0.706959      0.007522         0.007002        0.000632           2   \n",
       "246       0.963017      0.030604         0.007402        0.000490           2   \n",
       "385       1.010828      0.044012         0.006802        0.000400           5   \n",
       "240       0.661949      0.032672         0.006602        0.000490           2   \n",
       "\n",
       "    param_learning_rate param_max_depth param_min_child_weight  \\\n",
       "242                 0.3               2                     10   \n",
       "243                 0.3               2                     15   \n",
       "246                 0.3               3                     10   \n",
       "385                 0.5               3                      5   \n",
       "240                 0.3               2                      1   \n",
       "\n",
       "                                                params  split0_test_score  \\\n",
       "242  {'gamma': 2, 'learning_rate': 0.3, 'max_depth'...           0.683274   \n",
       "243  {'gamma': 2, 'learning_rate': 0.3, 'max_depth'...           0.683274   \n",
       "246  {'gamma': 2, 'learning_rate': 0.3, 'max_depth'...           0.683274   \n",
       "385  {'gamma': 5, 'learning_rate': 0.5, 'max_depth'...           0.683274   \n",
       "240  {'gamma': 2, 'learning_rate': 0.3, 'max_depth'...           0.667260   \n",
       "\n",
       "     split1_test_score  split2_test_score  split3_test_score  \\\n",
       "242           0.676732           0.692718           0.694494   \n",
       "243           0.683837           0.678508           0.682060   \n",
       "246           0.678508           0.696270           0.674956   \n",
       "385           0.680284           0.692718           0.658970   \n",
       "240           0.689165           0.699822           0.680284   \n",
       "\n",
       "     split4_test_score  mean_test_score  std_test_score  rank_test_score  \n",
       "242           0.662522         0.681948        0.011659                1  \n",
       "243           0.678508         0.681237        0.002301                2  \n",
       "246           0.664298         0.679461        0.010471                3  \n",
       "385           0.680284         0.679106        0.011053                4  \n",
       "240           0.657194         0.678745        0.015176                5  "
      ]
     },
     "execution_count": 11,
     "metadata": {},
     "output_type": "execute_result"
    }
   ],
   "source": [
    "clf = xgb.XGBClassifier(use_label_encoder=False, eval_metric = 'logloss', random_state = 1)\n",
    "\n",
    "params = {\n",
    "        'min_child_weight': [1, 5, 10, 15],\n",
    "        'learning_rate': [0.1, 0.2, 0.3, 0.4, 0.5],\n",
    "        'gamma': [0.5, 1, 2, 5],\n",
    "        'max_depth': [2, 3, 4, 5, 6]\n",
    "        }\n",
    "clf = GridSearchCV(clf, params, n_jobs = -1, scoring='recall', verbose = 10).fit(X_train, y_train)\n",
    "\n",
    "pd.DataFrame(clf.cv_results_).sort_values(by = 'mean_test_score', ascending = False).head()"
   ]
  },
  {
   "cell_type": "markdown",
   "id": "4ef8c6bc-ee39-49bf-b53a-5be901f9a455",
   "metadata": {},
   "source": [
    "Optimal parmeters for XGBoost are :\n",
    "gamma = 2\n",
    "laerning_rate = 0.3\n",
    "max_depth = 2\n",
    "min_child_weight = 10"
   ]
  },
  {
   "cell_type": "code",
   "execution_count": 12,
   "id": "d094f290-f8b2-46a0-a4ff-1e7dbed45204",
   "metadata": {},
   "outputs": [
    {
     "name": "stdout",
     "output_type": "stream",
     "text": [
      "Fitting 5 folds for each of 144 candidates, totalling 720 fits\n"
     ]
    },
    {
     "data": {
      "text/html": [
       "<div>\n",
       "<style scoped>\n",
       "    .dataframe tbody tr th:only-of-type {\n",
       "        vertical-align: middle;\n",
       "    }\n",
       "\n",
       "    .dataframe tbody tr th {\n",
       "        vertical-align: top;\n",
       "    }\n",
       "\n",
       "    .dataframe thead th {\n",
       "        text-align: right;\n",
       "    }\n",
       "</style>\n",
       "<table border=\"1\" class=\"dataframe\">\n",
       "  <thead>\n",
       "    <tr style=\"text-align: right;\">\n",
       "      <th></th>\n",
       "      <th>mean_fit_time</th>\n",
       "      <th>std_fit_time</th>\n",
       "      <th>mean_score_time</th>\n",
       "      <th>std_score_time</th>\n",
       "      <th>param_activation</th>\n",
       "      <th>param_alpha</th>\n",
       "      <th>param_hidden_layer_sizes</th>\n",
       "      <th>param_learning_rate</th>\n",
       "      <th>param_solver</th>\n",
       "      <th>params</th>\n",
       "      <th>split0_test_score</th>\n",
       "      <th>split1_test_score</th>\n",
       "      <th>split2_test_score</th>\n",
       "      <th>split3_test_score</th>\n",
       "      <th>split4_test_score</th>\n",
       "      <th>mean_test_score</th>\n",
       "      <th>std_test_score</th>\n",
       "      <th>rank_test_score</th>\n",
       "    </tr>\n",
       "  </thead>\n",
       "  <tbody>\n",
       "    <tr>\n",
       "      <th>130</th>\n",
       "      <td>8.305409</td>\n",
       "      <td>1.985305</td>\n",
       "      <td>0.008419</td>\n",
       "      <td>0.001181</td>\n",
       "      <td>relu</td>\n",
       "      <td>0.5</td>\n",
       "      <td>(50, 50, 50)</td>\n",
       "      <td>adaptive</td>\n",
       "      <td>adam</td>\n",
       "      <td>{'activation': 'relu', 'alpha': 0.5, 'hidden_l...</td>\n",
       "      <td>0.686833</td>\n",
       "      <td>0.714032</td>\n",
       "      <td>0.737123</td>\n",
       "      <td>0.692718</td>\n",
       "      <td>0.747780</td>\n",
       "      <td>0.715697</td>\n",
       "      <td>0.023884</td>\n",
       "      <td>1</td>\n",
       "    </tr>\n",
       "    <tr>\n",
       "      <th>43</th>\n",
       "      <td>17.540524</td>\n",
       "      <td>1.948171</td>\n",
       "      <td>0.017605</td>\n",
       "      <td>0.003881</td>\n",
       "      <td>tanh</td>\n",
       "      <td>0.05</td>\n",
       "      <td>(50, 100, 50)</td>\n",
       "      <td>constant</td>\n",
       "      <td>adam</td>\n",
       "      <td>{'activation': 'tanh', 'alpha': 0.05, 'hidden_...</td>\n",
       "      <td>0.699288</td>\n",
       "      <td>0.715808</td>\n",
       "      <td>0.761989</td>\n",
       "      <td>0.694494</td>\n",
       "      <td>0.701599</td>\n",
       "      <td>0.714636</td>\n",
       "      <td>0.024718</td>\n",
       "      <td>2</td>\n",
       "    </tr>\n",
       "    <tr>\n",
       "      <th>40</th>\n",
       "      <td>14.845966</td>\n",
       "      <td>3.219949</td>\n",
       "      <td>0.014804</td>\n",
       "      <td>0.003189</td>\n",
       "      <td>tanh</td>\n",
       "      <td>0.05</td>\n",
       "      <td>(50, 50, 50)</td>\n",
       "      <td>adaptive</td>\n",
       "      <td>adam</td>\n",
       "      <td>{'activation': 'tanh', 'alpha': 0.05, 'hidden_...</td>\n",
       "      <td>0.734875</td>\n",
       "      <td>0.673179</td>\n",
       "      <td>0.738899</td>\n",
       "      <td>0.680284</td>\n",
       "      <td>0.724689</td>\n",
       "      <td>0.710385</td>\n",
       "      <td>0.027956</td>\n",
       "      <td>3</td>\n",
       "    </tr>\n",
       "    <tr>\n",
       "      <th>37</th>\n",
       "      <td>10.086133</td>\n",
       "      <td>2.001357</td>\n",
       "      <td>0.021106</td>\n",
       "      <td>0.008769</td>\n",
       "      <td>tanh</td>\n",
       "      <td>0.05</td>\n",
       "      <td>(50, 50, 50)</td>\n",
       "      <td>constant</td>\n",
       "      <td>adam</td>\n",
       "      <td>{'activation': 'tanh', 'alpha': 0.05, 'hidden_...</td>\n",
       "      <td>0.733096</td>\n",
       "      <td>0.694494</td>\n",
       "      <td>0.701599</td>\n",
       "      <td>0.674956</td>\n",
       "      <td>0.730018</td>\n",
       "      <td>0.706832</td>\n",
       "      <td>0.022014</td>\n",
       "      <td>4</td>\n",
       "    </tr>\n",
       "    <tr>\n",
       "      <th>79</th>\n",
       "      <td>34.127963</td>\n",
       "      <td>5.343847</td>\n",
       "      <td>0.011608</td>\n",
       "      <td>0.001618</td>\n",
       "      <td>relu</td>\n",
       "      <td>0.0001</td>\n",
       "      <td>(50, 100, 50)</td>\n",
       "      <td>constant</td>\n",
       "      <td>adam</td>\n",
       "      <td>{'activation': 'relu', 'alpha': 0.0001, 'hidde...</td>\n",
       "      <td>0.734875</td>\n",
       "      <td>0.705151</td>\n",
       "      <td>0.712256</td>\n",
       "      <td>0.708703</td>\n",
       "      <td>0.666075</td>\n",
       "      <td>0.705412</td>\n",
       "      <td>0.022241</td>\n",
       "      <td>5</td>\n",
       "    </tr>\n",
       "  </tbody>\n",
       "</table>\n",
       "</div>"
      ],
      "text/plain": [
       "     mean_fit_time  std_fit_time  mean_score_time  std_score_time  \\\n",
       "130       8.305409      1.985305         0.008419        0.001181   \n",
       "43       17.540524      1.948171         0.017605        0.003881   \n",
       "40       14.845966      3.219949         0.014804        0.003189   \n",
       "37       10.086133      2.001357         0.021106        0.008769   \n",
       "79       34.127963      5.343847         0.011608        0.001618   \n",
       "\n",
       "    param_activation param_alpha param_hidden_layer_sizes param_learning_rate  \\\n",
       "130             relu         0.5             (50, 50, 50)            adaptive   \n",
       "43              tanh        0.05            (50, 100, 50)            constant   \n",
       "40              tanh        0.05             (50, 50, 50)            adaptive   \n",
       "37              tanh        0.05             (50, 50, 50)            constant   \n",
       "79              relu      0.0001            (50, 100, 50)            constant   \n",
       "\n",
       "    param_solver                                             params  \\\n",
       "130         adam  {'activation': 'relu', 'alpha': 0.5, 'hidden_l...   \n",
       "43          adam  {'activation': 'tanh', 'alpha': 0.05, 'hidden_...   \n",
       "40          adam  {'activation': 'tanh', 'alpha': 0.05, 'hidden_...   \n",
       "37          adam  {'activation': 'tanh', 'alpha': 0.05, 'hidden_...   \n",
       "79          adam  {'activation': 'relu', 'alpha': 0.0001, 'hidde...   \n",
       "\n",
       "     split0_test_score  split1_test_score  split2_test_score  \\\n",
       "130           0.686833           0.714032           0.737123   \n",
       "43            0.699288           0.715808           0.761989   \n",
       "40            0.734875           0.673179           0.738899   \n",
       "37            0.733096           0.694494           0.701599   \n",
       "79            0.734875           0.705151           0.712256   \n",
       "\n",
       "     split3_test_score  split4_test_score  mean_test_score  std_test_score  \\\n",
       "130           0.692718           0.747780         0.715697        0.023884   \n",
       "43            0.694494           0.701599         0.714636        0.024718   \n",
       "40            0.680284           0.724689         0.710385        0.027956   \n",
       "37            0.674956           0.730018         0.706832        0.022014   \n",
       "79            0.708703           0.666075         0.705412        0.022241   \n",
       "\n",
       "     rank_test_score  \n",
       "130                1  \n",
       "43                 2  \n",
       "40                 3  \n",
       "37                 4  \n",
       "79                 5  "
      ]
     },
     "execution_count": 12,
     "metadata": {},
     "output_type": "execute_result"
    }
   ],
   "source": [
    "clf = MLPClassifier(tol = 0.0001, max_iter = 500)\n",
    "\n",
    "params = {\n",
    "    'hidden_layer_sizes': [(50,50,50), (50,100,50), (100,)],\n",
    "    'activation': ['tanh', 'relu'],\n",
    "    'solver': ['sgd', 'adam', 'lbfgs'],\n",
    "    'alpha': [0.0001, 0.001, 0.05, 0.5],\n",
    "    'learning_rate': ['constant','adaptive'],\n",
    "}\n",
    "clf = GridSearchCV(clf, params, n_jobs = -1, scoring='recall', verbose = 3).fit(X_train, y_train)\n",
    "\n",
    "pd.DataFrame(clf.cv_results_).sort_values(by = 'mean_test_score', ascending = False).head()"
   ]
  },
  {
   "cell_type": "raw",
   "id": "77327672-68a7-461a-97aa-d08460ad39ff",
   "metadata": {},
   "source": [
    "Optimal parmeters for MLP are :\n",
    "hidden_layer_sizes = (50,50,50)\n",
    "activation = relu\n",
    "solver = adam\n",
    "alpha = 0.5\n",
    "learning_rate = adaptive"
   ]
  },
  {
   "cell_type": "code",
   "execution_count": 14,
   "id": "7a4dca64-4566-4000-a844-1bde6bd05f15",
   "metadata": {},
   "outputs": [
    {
     "name": "stdout",
     "output_type": "stream",
     "text": [
      "### XGBoost ###\n",
      "Accuracy : 0.781\n",
      "Recall : 0.6860795454545454\n",
      "\n",
      "#### MLP ####\n",
      "Accuracy : 0.771\n",
      "Recall : 0.7116477272727273\n"
     ]
    }
   ],
   "source": [
    "# Final evaluation \n",
    "\n",
    "clf1 = xgb.XGBClassifier(use_label_encoder=False, eval_metric = 'logloss', random_state = 1, gamma = 2, learning_rate = 0.3, max_depth = 2, min_child_weight = 10)\n",
    "clf2 = MLPClassifier(tol = 0.0001, max_iter = 500, hidden_layer_sizes = (50, 50, 50), activation = 'relu', solver = 'adam', alpha = 0.5, learning_rate = 'adaptive')\n",
    "\n",
    "clf1 = clf1.fit(X_train, y_train)\n",
    "clf2 = clf2.fit(X_train, y_train)\n",
    "\n",
    "y_pred_1 = clf1.predict(X_test)\n",
    "y_pred_2 = clf2.predict(X_test)\n",
    "\n",
    "print(\"### XGBoost ###\")\n",
    "print(\"Accuracy :\", clf1.score(X_test, y_test))\n",
    "print(\"Recall :\", recall_score(y_test, y_pred_1))\n",
    "\n",
    "print()\n",
    "\n",
    "print(\"#### MLP ####\")\n",
    "print(\"Accuracy :\", clf2.score(X_test, y_test))\n",
    "print(\"Recall :\", recall_score(y_test, y_pred_2))"
   ]
  },
  {
   "cell_type": "markdown",
   "id": "62a5d6ba-7cf0-40ee-8a35-f679ea598bd3",
   "metadata": {},
   "source": [
    "## 3.4 Business case quantification"
   ]
  },
  {
   "cell_type": "code",
   "execution_count": 44,
   "id": "7f5082ca-894d-43f5-b82d-404d8016998c",
   "metadata": {},
   "outputs": [
    {
     "name": "stderr",
     "output_type": "stream",
     "text": [
      "100%|██████████| 119900/119900 [04:53<00:00, 408.85it/s]\n",
      "100%|██████████| 5000/5000 [01:12<00:00, 69.23it/s]\n",
      "100%|██████████| 5000/5000 [01:03<00:00, 78.87it/s]\n",
      "100%|██████████| 5000/5000 [01:21<00:00, 61.59it/s]\n"
     ]
    }
   ],
   "source": [
    "#On prend une nouvelle date sur lequel le modèle n'est pas entrainé pour quantifier l'impact potentiel du modèle sur les ventes\n",
    "date = datetime(2019,4,1)\n",
    "\n",
    "df_before_1 = df2[df2.date_order < date]\n",
    "df_before_1 = df_before_1[df_before_1.date_order >= (date - timedelta(30))]\n",
    "\n",
    "df_before_6 = df2[df2.date_order < date]\n",
    "df_before_6 = df_before_6[df_before_6.date_order >= (date - timedelta(180))]\n",
    "\n",
    "df_after = df2[df2.date_order >= date]\n",
    "df_after = df_after[df_after.date_order < (date + timedelta(90))]\n",
    "\n",
    "df_test_date = df_before_6.copy()\n",
    "clients_eligible = [x for x in tqdm(df_test_date.client_id.unique()) if x not in df_train.client_id.unique()]\n",
    "clients_to_keep = choice(a = clients_eligible, size = min(5000, df_test_date.client_id.nunique()), replace=False)\n",
    "df_test_date = df_test_date[df_test_date.client_id.isin(clients_to_keep)]\n",
    "df_test_date = df_test_date.groupby(['client_id']).agg({'date_invoice' : 'count', 'product_id' : 'nunique', 'branch_id' : 'nunique'}).reset_index()\n",
    "df_test_date.rename(columns = {'date_invoice' : 'nb_orders',\n",
    "                           'product_id' : 'nb_products',\n",
    "                           'branch_id' : 'nb_branches'}, inplace = True)\n",
    "\n",
    "df_test_date['R'] = 0\n",
    "df_test_date['F6'] = 0\n",
    "df_test_date['F1'] = 0\n",
    "df_test_date['M6'] = 0\n",
    "df_test_date['M1'] = 0\n",
    "df_test_date['F_ratio'] = 0\n",
    "df_test_date['M_ratio'] = 0\n",
    "\n",
    "for client in tqdm(df_test_date.client_id.unique()):\n",
    "    (r,f6,f1, m6, m1, f_r, m_r) = rfm(df_before_6, date, client)\n",
    "    df_test_date.loc[df_test_date.client_id == client, 'R'] = r\n",
    "    df_test_date.loc[df_test_date.client_id == client, 'F6'] = f6\n",
    "    df_test_date.loc[df_test_date.client_id == client, 'F1'] = f1\n",
    "    df_test_date.loc[df_test_date.client_id == client, 'M6'] = m6\n",
    "    df_test_date.loc[df_test_date.client_id == client, 'M1'] = m1\n",
    "    df_test_date.loc[df_test_date.client_id == client, 'F_ratio'] = f_r\n",
    "    df_test_date.loc[df_test_date.client_id == client, 'M_ratio'] = m_r\n",
    "\n",
    "df_test_date['mean_basket'] = df_test_date['M6']/df_test_date['nb_orders']\n",
    "\n",
    "df_test_date['Online'] = 0\n",
    "df_test_date['Store'] = 0\n",
    "df_test_date['Phone'] = 0\n",
    "df_test_date['Visit'] = 0\n",
    "df_test_date['Other'] = 0\n",
    "\n",
    "\n",
    "for client in tqdm(df_test_date.client_id.unique()):\n",
    "    (online, store, phone, visit, other) = channels(df_before_6, client)\n",
    "    df_test_date.loc[df_test_date.client_id == client, 'Online'] = online\n",
    "    df_test_date.loc[df_test_date.client_id == client, 'Store'] = store\n",
    "    df_test_date.loc[df_test_date.client_id == client, 'Phone'] = phone\n",
    "    df_test_date.loc[df_test_date.client_id == client, 'Visit'] = visit\n",
    "    df_test_date.loc[df_test_date.client_id == client, 'Other'] = other\n",
    "\n",
    "\n",
    "df_test_date['churn'] = 0\n",
    "for client in tqdm(df_test_date.client_id.unique()):\n",
    "    df_test_date.loc[df_test_date.client_id == client, 'churn'] = is_churn(df_before_6, df_after, client, 2)\n"
   ]
  },
  {
   "cell_type": "code",
   "execution_count": 65,
   "id": "c14a4531-2976-43c5-98fb-80bfec47b0d1",
   "metadata": {},
   "outputs": [
    {
     "name": "stdout",
     "output_type": "stream",
     "text": [
      "0    3188\n",
      "1    1812\n",
      "Name: churn, dtype: int64\n",
      "Accuracy : 0.746\n",
      "Recall : 0.6556291390728477\n"
     ]
    }
   ],
   "source": [
    "#Training model on train set\n",
    "X = df_train.drop(columns = ['churn', 'client_id'], axis = 1)\n",
    "y = df_train['churn']\n",
    "\n",
    "X = StandardScaler().fit_transform(X)\n",
    "\n",
    "clf = MLPClassifier(tol = 0.0001, max_iter = 500).fit(X,y)\n",
    "#clf = xgb.XGBClassifier(use_label_encoder=False, eval_metric = 'logloss', random_state = 1).fit(X,y)\n",
    "#clf = xgb.XGBClassifier(use_label_encoder=False, eval_metric = 'logloss', random_state = 1, gamma = 2, learning_rate = 0.3, max_depth = 2, min_child_weight = 10).fit(X, y)\n",
    "#clf = MLPClassifier(tol = 0.0001, max_iter = 500, hidden_layer_sizes = (50, 50, 50), activation = 'relu', solver = 'adam', alpha = 0.5, learning_rate = 'adaptive').fit(X, y)\n",
    "\n",
    "\n",
    "X_test = df_test_date.drop(columns = ['churn', 'client_id'], axis = 1)\n",
    "X_test = StandardScaler().fit_transform(X_test)\n",
    "y_test = df_test_date['churn']\n",
    "y_pred = clf.predict(X_test)\n",
    "\n",
    "print(df_test_date.churn.value_counts())\n",
    "print(\"Accuracy :\", clf.score(X_test, y_test))\n",
    "print(\"Recall :\", recall_score(y_test, y_pred))"
   ]
  },
  {
   "cell_type": "markdown",
   "id": "edee81f4-c8dc-4830-b425-79fcc7a335ce",
   "metadata": {},
   "source": [
    "Remarque : Les modèles optimisés par la gridsearch sur le train set ne performent pas mieux que les modèles par défaut sur cette nouvelle date. On revient donc sur le MLP par défaut car on constate qu'il généralise mieux. "
   ]
  },
  {
   "cell_type": "code",
   "execution_count": 66,
   "id": "96d772a5-20c7-4002-8d50-f963cb41eccd",
   "metadata": {},
   "outputs": [
    {
     "name": "stderr",
     "output_type": "stream",
     "text": [
      "100%|██████████| 5000/5000 [00:35<00:00, 140.62it/s]"
     ]
    },
    {
     "name": "stdout",
     "output_type": "stream",
     "text": [
      "Baseline : 38246332\n",
      "Predicted sales : 38769365\n",
      "Increment (absolute) : + 523032.4 $\n",
      "Increment (percentage) : + 1.37 %\n"
     ]
    },
    {
     "name": "stderr",
     "output_type": "stream",
     "text": [
      "\n"
     ]
    }
   ],
   "source": [
    "#Prediciting churn and comparing potential sales with baseline sales\n",
    "df_test_date_pred = df_test_date.copy()\n",
    "df_test_date_pred['pred'] = y_pred\n",
    "\n",
    "new_sales = 0\n",
    "baseline = 0\n",
    "\n",
    "for client in tqdm(df_test_date_pred.client_id.unique()) :\n",
    "    if df_test_date_pred[df_test_date_pred.client_id == client].churn.unique()[0] == 0:\n",
    "        sales = df_after[df_after.client_id == client].sales_net.sum()\n",
    "        new_sales += sales\n",
    "        baseline += sales\n",
    "    elif df_test_date_pred[df_test_date_pred.client_id == client].pred.unique()[0] == 1:\n",
    "        sales = df_after[df_after.client_id == client].sales_net.sum()\n",
    "        potential_sales = 0.5*df_before_6[df_before_6.client_id == client].sales_net.sum()\n",
    "        baseline += sales\n",
    "        new_sales += sales + 0.5*(max(0, potential_sales-sales))\n",
    "\n",
    "print(\"Baseline :\", round(baseline))\n",
    "print(\"Predicted sales :\", round(new_sales))\n",
    "print(\"Increment (absolute) : +\", round((new_sales-baseline), 2), \"$\")\n",
    "print(\"Increment (percentage) : +\", round(100*(new_sales-baseline)/baseline, 2),\"%\")"
   ]
  },
  {
   "cell_type": "code",
   "execution_count": 118,
   "id": "836c8e21-8f25-4b26-902f-6e4a72174018",
   "metadata": {},
   "outputs": [
    {
     "name": "stdout",
     "output_type": "stream",
     "text": [
      "Part de revenus générés par les churners sur la période précédente : 6.88 %\n"
     ]
    }
   ],
   "source": [
    "pourcentage = 100*df_test_date[df_test_date.churn == 1].M6.sum()/df_test_date[df_test_date.churn == 0].M6.sum()\n",
    "print(\"Part de revenus générés par les churners sur la période précédente :\", round(pourcentage, 2), \"%\")"
   ]
  },
  {
   "cell_type": "markdown",
   "id": "8e017ebb-bc94-4aa8-abc3-a59484ea570e",
   "metadata": {},
   "source": [
    "### 3.5 Explainability"
   ]
  },
  {
   "cell_type": "code",
   "execution_count": 86,
   "id": "ea0d48f3-2f72-4378-afef-538c5d70f12e",
   "metadata": {},
   "outputs": [
    {
     "name": "stderr",
     "output_type": "stream",
     "text": [
      "ntree_limit is deprecated, use `iteration_range` or model slicing instead.\n"
     ]
    },
    {
     "data": {
      "image/png": "[encoded data removed]",
      "text/plain": [
       "<Figure size 576x568.8 with 2 Axes>"
      ]
     },
     "metadata": {},
     "output_type": "display_data"
    }
   ],
   "source": [
    "X = df_train.drop(columns = ['churn', 'client_id'], axis = 1)\n",
    "y = df_train['churn']\n",
    "\n",
    "X_scaled = StandardScaler().fit_transform(X)\n",
    "\n",
    "i=0\n",
    "for col in X.columns :\n",
    "    X[col] = X_scaled[:,i]\n",
    "    i += 1\n",
    "\n",
    "clf = xgb.XGBClassifier(use_label_encoder=False, eval_metric = 'logloss', random_state = 1)\n",
    "clf.fit(X, y)\n",
    "\n",
    "explainer = shap.TreeExplainer(clf)\n",
    "shap_values = explainer.shap_values(X)\n",
    "shap.summary_plot(shap_values, X)"
   ]
  },
  {
   "cell_type": "code",
   "execution_count": 85,
   "id": "a25af248-aea4-4ee4-afd5-f9d5384271c5",
   "metadata": {},
   "outputs": [
    {
     "data": {
      "text/plain": [
       "<matplotlib.axes._subplots.AxesSubplot at 0x1d53c1f5910>"
      ]
     },
     "execution_count": 85,
     "metadata": {},
     "output_type": "execute_result"
    },
    {
     "data": {
      "image/png": "[encoded data removed]",
      "text/plain": [
       "<Figure size 1080x576 with 2 Axes>"
      ]
     },
     "metadata": {},
     "output_type": "display_data"
    }
   ],
   "source": [
    "df_corr = df_train.drop(columns = ['client_id'], axis = 1)\n",
    "\n",
    "df_corr_scaled = StandardScaler().fit_transform(df_corr)\n",
    "\n",
    "i=0\n",
    "for col in df_corr.columns :\n",
    "    df_corr[col] = df_corr_scaled[:,i]\n",
    "    i += 1\n",
    "\n",
    "sns.heatmap((df_corr.corr()))"
   ]
  },
  {
   "cell_type": "markdown",
   "id": "b9d84ebd-ce0f-4703-9398-1dcfb2e33a23",
   "metadata": {},
   "source": [
    "# 4. Basic example of client Segmentation"
   ]
  },
  {
   "cell_type": "code",
   "execution_count": 89,
   "id": "71e9383f-c1af-4645-ad71-e2ba7b947f84",
   "metadata": {},
   "outputs": [],
   "source": [
    "df_client_date0 = df_test_date.drop(columns = ['churn'], axis = 1)"
   ]
  },
  {
   "cell_type": "code",
   "execution_count": 90,
   "id": "57a05c73-f471-4663-9259-b22469954bf3",
   "metadata": {},
   "outputs": [
    {
     "data": {
      "text/html": [
       "<div>\n",
       "<style scoped>\n",
       "    .dataframe tbody tr th:only-of-type {\n",
       "        vertical-align: middle;\n",
       "    }\n",
       "\n",
       "    .dataframe tbody tr th {\n",
       "        vertical-align: top;\n",
       "    }\n",
       "\n",
       "    .dataframe thead th {\n",
       "        text-align: right;\n",
       "    }\n",
       "</style>\n",
       "<table border=\"1\" class=\"dataframe\">\n",
       "  <thead>\n",
       "    <tr style=\"text-align: right;\">\n",
       "      <th></th>\n",
       "      <th>client_id</th>\n",
       "      <th>nb_orders</th>\n",
       "      <th>nb_products</th>\n",
       "      <th>nb_branches</th>\n",
       "      <th>R</th>\n",
       "      <th>F6</th>\n",
       "      <th>F1</th>\n",
       "      <th>M6</th>\n",
       "      <th>M1</th>\n",
       "      <th>F_ratio</th>\n",
       "      <th>M_ratio</th>\n",
       "      <th>mean_basket</th>\n",
       "      <th>Online</th>\n",
       "      <th>Store</th>\n",
       "      <th>Phone</th>\n",
       "      <th>Visit</th>\n",
       "      <th>Other</th>\n",
       "    </tr>\n",
       "  </thead>\n",
       "  <tbody>\n",
       "    <tr>\n",
       "      <th>0</th>\n",
       "      <td>441</td>\n",
       "      <td>19</td>\n",
       "      <td>17</td>\n",
       "      <td>2</td>\n",
       "      <td>80</td>\n",
       "      <td>0.028571</td>\n",
       "      <td>0.000000</td>\n",
       "      <td>3282.887673</td>\n",
       "      <td>0.000000</td>\n",
       "      <td>0.000000</td>\n",
       "      <td>0.000000</td>\n",
       "      <td>172.783562</td>\n",
       "      <td>0</td>\n",
       "      <td>1</td>\n",
       "      <td>1</td>\n",
       "      <td>0</td>\n",
       "      <td>0</td>\n",
       "    </tr>\n",
       "    <tr>\n",
       "      <th>1</th>\n",
       "      <td>811</td>\n",
       "      <td>58</td>\n",
       "      <td>29</td>\n",
       "      <td>1</td>\n",
       "      <td>4</td>\n",
       "      <td>0.077778</td>\n",
       "      <td>0.022222</td>\n",
       "      <td>14667.829433</td>\n",
       "      <td>4072.562467</td>\n",
       "      <td>0.285714</td>\n",
       "      <td>1.665916</td>\n",
       "      <td>252.893611</td>\n",
       "      <td>0</td>\n",
       "      <td>0</td>\n",
       "      <td>1</td>\n",
       "      <td>0</td>\n",
       "      <td>0</td>\n",
       "    </tr>\n",
       "    <tr>\n",
       "      <th>2</th>\n",
       "      <td>1499</td>\n",
       "      <td>34</td>\n",
       "      <td>28</td>\n",
       "      <td>1</td>\n",
       "      <td>115</td>\n",
       "      <td>0.032680</td>\n",
       "      <td>0.000000</td>\n",
       "      <td>3276.262536</td>\n",
       "      <td>0.000000</td>\n",
       "      <td>0.000000</td>\n",
       "      <td>0.000000</td>\n",
       "      <td>96.360663</td>\n",
       "      <td>0</td>\n",
       "      <td>0</td>\n",
       "      <td>1</td>\n",
       "      <td>0</td>\n",
       "      <td>0</td>\n",
       "    </tr>\n",
       "    <tr>\n",
       "      <th>3</th>\n",
       "      <td>1819</td>\n",
       "      <td>143</td>\n",
       "      <td>126</td>\n",
       "      <td>1</td>\n",
       "      <td>5</td>\n",
       "      <td>0.171429</td>\n",
       "      <td>0.040000</td>\n",
       "      <td>36613.240095</td>\n",
       "      <td>8531.077970</td>\n",
       "      <td>0.233333</td>\n",
       "      <td>1.398032</td>\n",
       "      <td>256.036644</td>\n",
       "      <td>0</td>\n",
       "      <td>0</td>\n",
       "      <td>1</td>\n",
       "      <td>0</td>\n",
       "      <td>0</td>\n",
       "    </tr>\n",
       "    <tr>\n",
       "      <th>4</th>\n",
       "      <td>1824</td>\n",
       "      <td>7</td>\n",
       "      <td>7</td>\n",
       "      <td>1</td>\n",
       "      <td>157</td>\n",
       "      <td>0.006329</td>\n",
       "      <td>0.000000</td>\n",
       "      <td>150.895947</td>\n",
       "      <td>0.000000</td>\n",
       "      <td>0.000000</td>\n",
       "      <td>0.000000</td>\n",
       "      <td>21.556564</td>\n",
       "      <td>0</td>\n",
       "      <td>0</td>\n",
       "      <td>1</td>\n",
       "      <td>0</td>\n",
       "      <td>0</td>\n",
       "    </tr>\n",
       "  </tbody>\n",
       "</table>\n",
       "</div>"
      ],
      "text/plain": [
       "   client_id  nb_orders  nb_products  nb_branches    R        F6        F1  \\\n",
       "0        441         19           17            2   80  0.028571  0.000000   \n",
       "1        811         58           29            1    4  0.077778  0.022222   \n",
       "2       1499         34           28            1  115  0.032680  0.000000   \n",
       "3       1819        143          126            1    5  0.171429  0.040000   \n",
       "4       1824          7            7            1  157  0.006329  0.000000   \n",
       "\n",
       "             M6           M1   F_ratio   M_ratio  mean_basket  Online  Store  \\\n",
       "0   3282.887673     0.000000  0.000000  0.000000   172.783562       0      1   \n",
       "1  14667.829433  4072.562467  0.285714  1.665916   252.893611       0      0   \n",
       "2   3276.262536     0.000000  0.000000  0.000000    96.360663       0      0   \n",
       "3  36613.240095  8531.077970  0.233333  1.398032   256.036644       0      0   \n",
       "4    150.895947     0.000000  0.000000  0.000000    21.556564       0      0   \n",
       "\n",
       "   Phone  Visit  Other  \n",
       "0      1      0      0  \n",
       "1      1      0      0  \n",
       "2      1      0      0  \n",
       "3      1      0      0  \n",
       "4      1      0      0  "
      ]
     },
     "execution_count": 90,
     "metadata": {},
     "output_type": "execute_result"
    }
   ],
   "source": [
    "df_client_date0.head()"
   ]
  },
  {
   "cell_type": "code",
   "execution_count": 111,
   "id": "3866ed0e-d608-4655-bded-e5dd3d6f7466",
   "metadata": {},
   "outputs": [
    {
     "data": {
      "image/png": "[encoded data removed]",
      "text/plain": [
       "<Figure size 1080x576 with 1 Axes>"
      ]
     },
     "metadata": {},
     "output_type": "display_data"
    }
   ],
   "source": [
    "X = df_client_date0[['F6', 'mean_basket']].to_numpy()\n",
    "X = StandardScaler().fit_transform(X)\n",
    "\n",
    "kmeans = KMeans(n_clusters=5, random_state=1).fit(X)\n",
    "df_client_date0['label'] = kmeans.labels_\n",
    "\n",
    "#filter rows of original data\n",
    "filtered_label0 = df_client_date0[df_client_date0['label'] == 0]\n",
    "filtered_label1 = df_client_date0[df_client_date0['label'] == 1]\n",
    "filtered_label2 = df_client_date0[df_client_date0['label'] == 2]\n",
    "filtered_label3 = df_client_date0[df_client_date0['label'] == 3]\n",
    "filtered_label4 = df_client_date0[df_client_date0['label'] == 4]\n",
    " \n",
    "#Plotting the results\n",
    "plt.scatter(filtered_label0['F6'] , filtered_label0['mean_basket'] , color = 'darkgreen')\n",
    "plt.scatter(filtered_label1['F6'] , filtered_label1['mean_basket'] , color = 'orange')\n",
    "plt.scatter(filtered_label2['F6'] , filtered_label2['mean_basket'] , color = 'red')\n",
    "plt.scatter(filtered_label3['F6'] , filtered_label3['mean_basket'] , color = 'blue')\n",
    "plt.scatter(filtered_label4['F6'] , filtered_label4['mean_basket'] , color = 'purple')\n",
    "plt.title('K-Means 5')\n",
    "plt.xlabel('Frequency')\n",
    "plt.ylabel('Average Basket')\n",
    "#plt.xscale('log')\n",
    "plt.yscale('log')\n",
    "plt.show()"
   ]
  },
  {
   "cell_type": "markdown",
   "id": "ca2ff249-b658-4bcd-b147-270cd53a5c6e",
   "metadata": {},
   "source": [
    "Ce graphique a pour seule vocation d'illustrer simplement comment il est possible de segmenter les clients selon 2 critères avec un algorithme K-means. En pratique on utilisera plus que 2 critères pour réaliser la segmentation."
   ]
  }
 ],
 "metadata": {
  "kernelspec": {
   "display_name": "Python 3",
   "language": "python",
   "name": "python3"
  },
  "language_info": {
   "codemirror_mode": {
    "name": "ipython",
    "version": 3
   },
   "file_extension": ".py",
   "mimetype": "text/x-python",
   "name": "python",
   "nbconvert_exporter": "python",
   "pygments_lexer": "ipython3",
   "version": "3.8.8"
  }
 },
 "nbformat": 4,
 "nbformat_minor": 5
}
